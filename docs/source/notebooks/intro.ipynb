{
 "cells": [
  {
   "cell_type": "markdown",
   "metadata": {},
   "source": [
    "# Quickstart Tutorial"
   ]
  },
  {
   "cell_type": "markdown",
   "metadata": {},
   "source": [
    "`galtab` is a general approach for calculating the expectation value of\n",
    "counts-in-cells statistics for a given halo catalog and HOD model. It pretabulates\n",
    "placeholder galaxies inside each halo to perform rapid, deterministic calculations,\n",
    "which are ideal to be used inside an MCMC.\n",
    "\n",
    "This tutorial will demonstrate some basic Counts-in-Cylinders (CiC) calculations\n",
    "using the intended `galtab` workflow."
   ]
  },
  {
   "cell_type": "markdown",
   "metadata": {},
   "source": [
    "## Prerequisites\n",
    "\n",
    "All of the following are `pip` installable\n",
    "\n",
    "- `galtab`\n",
    "    - `numpy`\n",
    "    - `jax`\n",
    "    - `astropy`\n",
    "    - `halotools`\n",
    "- `matplotlib`\n",
    "- `jupyterlab`\n",
    "\n",
    "After installing the above and setting up halotools, you should be able to run the\n",
    "following cell. In this cell:\n",
    "\n",
    "- set our cosmology and CiC parameters\n",
    "- choose an HOD model\n",
    "- load the simulation data"
   ]
  },
  {
   "cell_type": "code",
   "execution_count": 1,
   "metadata": {},
   "outputs": [
    {
     "data": {
      "text/html": [
       "<div><i>Table length=5</i>\n",
       "<table id=\"table140161200472944\" class=\"table-striped table-bordered table-condensed\">\n",
       "<thead><tr><th>halo_vmax_firstacc</th><th>halo_dmvir_dt_tdyn</th><th>halo_macc</th><th>halo_scale_factor</th><th>halo_vmax_mpeak</th><th>halo_m_pe_behroozi</th><th>halo_delta_vmax_behroozi17</th><th>halo_xoff</th><th>halo_spin</th><th>halo_tidal_force</th><th>halo_scale_factor_firstacc</th><th>halo_c_to_a</th><th>halo_mvir_firstacc</th><th>halo_scale_factor_last_mm</th><th>halo_tidal_id</th><th>halo_scale_factor_mpeak</th><th>halo_pid</th><th>halo_m500c</th><th>halo_id</th><th>halo_halfmass_scale_factor</th><th>halo_upid</th><th>halo_t_by_u</th><th>halo_rvir</th><th>halo_vpeak</th><th>halo_dmvir_dt_100myr</th><th>halo_mpeak</th><th>halo_m_pe_diemer</th><th>halo_jx</th><th>halo_jy</th><th>halo_jz</th><th>halo_m2500c</th><th>halo_mvir</th><th>halo_voff</th><th>halo_axisA_z</th><th>halo_axisA_x</th><th>halo_axisA_y</th><th>halo_y</th><th>halo_b_to_a</th><th>halo_x</th><th>halo_z</th><th>halo_m200b</th><th>halo_vacc</th><th>halo_scale_factor_lastacc</th><th>halo_vmax</th><th>halo_m200c</th><th>halo_vx</th><th>halo_vy</th><th>halo_vz</th><th>halo_dmvir_dt_inst</th><th>halo_tidal_force_tdyn</th><th>halo_rs</th><th>halo_nfw_conc</th><th>halo_hostid</th><th>halo_mvir_host_halo</th></tr></thead>\n",
       "<thead><tr><th>float32</th><th>float32</th><th>float32</th><th>float32</th><th>float32</th><th>float32</th><th>float32</th><th>float32</th><th>float32</th><th>float32</th><th>float32</th><th>float32</th><th>float32</th><th>float32</th><th>int64</th><th>float32</th><th>int64</th><th>float32</th><th>int64</th><th>float32</th><th>int64</th><th>float32</th><th>float32</th><th>float32</th><th>float32</th><th>float32</th><th>float32</th><th>float32</th><th>float32</th><th>float32</th><th>float32</th><th>float32</th><th>float32</th><th>float32</th><th>float32</th><th>float32</th><th>float32</th><th>float32</th><th>float32</th><th>float32</th><th>float32</th><th>float32</th><th>float32</th><th>float32</th><th>float32</th><th>float32</th><th>float32</th><th>float32</th><th>float32</th><th>float32</th><th>float32</th><th>float32</th><th>int64</th><th>float32</th></tr></thead>\n",
       "<tr><td>1001.57</td><td>12810.0</td><td>200800000000000.0</td><td>1.00231</td><td>1001.57</td><td>202700000000000.0</td><td>-0.0026</td><td>0.0257357</td><td>0.02391</td><td>0.11954</td><td>1.00231</td><td>0.47559</td><td>200800000000000.0</td><td>0.28343</td><td>2812606193</td><td>1.002</td><td>-1</td><td>116580000000000.0</td><td>2811042639</td><td>0.41506</td><td>-1</td><td>0.593</td><td>1.190447</td><td>1091.38</td><td>17390.0</td><td>200800000000000.0</td><td>111800000000000.0</td><td>2536000000000000.0</td><td>-474400000000000.0</td><td>-6566000000000000.0</td><td>65777000000000.0</td><td>200800000000000.0</td><td>21.34</td><td>19.2231</td><td>59.7891</td><td>-18.8001</td><td>43.14082</td><td>0.63663</td><td>36.17984</td><td>17.96339</td><td>223780000000000.0</td><td>1001.57</td><td>1.00231</td><td>1001.57</td><td>158240000000000.0</td><td>16.1</td><td>8.51</td><td>-78.88</td><td>17390.0</td><td>0.12244</td><td>0.137953</td><td>8.629367</td><td>2811042639</td><td>200800000000000.0</td></tr>\n",
       "<tr><td>895.2</td><td>13760.0</td><td>179600000000000.0</td><td>1.00231</td><td>895.2</td><td>181000000000000.0</td><td>-0.01065</td><td>0.041987</td><td>0.06297</td><td>0.50587</td><td>1.00231</td><td>0.56181</td><td>179600000000000.0</td><td>0.29862</td><td>2811077105</td><td>1.002</td><td>-1</td><td>100360000000000.0</td><td>2811055606</td><td>0.50618</td><td>-1</td><td>0.627</td><td>1.146849</td><td>969.05</td><td>7324.0</td><td>179600000000000.0</td><td>128700000000000.0</td><td>1.074e+16</td><td>4931000000000000.0</td><td>-1.185e+16</td><td>47026000000000.0</td><td>179600000000000.0</td><td>41.91</td><td>41.2062</td><td>34.6803</td><td>17.8882</td><td>49.54417</td><td>0.8397</td><td>45.36644</td><td>40.01593</td><td>204460000000000.0</td><td>895.2</td><td>1.00231</td><td>895.2</td><td>142290000000000.0</td><td>2.46</td><td>264.77</td><td>-128.08</td><td>7324.0</td><td>0.491</td><td>0.185805</td><td>6.172326</td><td>2811055606</td><td>179600000000000.0</td></tr>\n",
       "<tr><td>853.83</td><td>4666.0</td><td>129800000000000.0</td><td>1.00231</td><td>853.83</td><td>149500000000000.0</td><td>0.00531</td><td>0.026461901</td><td>0.03607</td><td>0.07568</td><td>1.00231</td><td>0.66381</td><td>129800000000000.0</td><td>0.49606</td><td>2810630242</td><td>1.002</td><td>-1</td><td>87766000000000.0</td><td>2809250167</td><td>0.491</td><td>-1</td><td>0.5774</td><td>1.029343</td><td>926.37</td><td>2747.0</td><td>129800000000000.0</td><td>80320000000000.0</td><td>2133000000000000.0</td><td>-3236000000000000.0</td><td>-3111000000000000.0</td><td>39496000000000.0</td><td>129800000000000.0</td><td>23.35</td><td>-17.5268</td><td>38.9596</td><td>24.3626</td><td>13.88261</td><td>0.76149</td><td>22.02318</td><td>9.80153</td><td>141210000000000.0</td><td>853.83</td><td>1.00231</td><td>853.83</td><td>112010000000000.0</td><td>18.49</td><td>124.89</td><td>-35.19</td><td>2747.0</td><td>0.10074</td><td>0.119293995</td><td>8.628624</td><td>2809250167</td><td>129800000000000.0</td></tr>\n",
       "<tr><td>777.64</td><td>4401.0</td><td>103000000000000.0</td><td>1.00231</td><td>777.64</td><td>104800000000000.0</td><td>0.00498</td><td>0.0516998</td><td>0.05031</td><td>0.09677</td><td>1.00231</td><td>0.47302</td><td>103000000000000.0</td><td>0.38469</td><td>2820592816</td><td>1.002</td><td>-1</td><td>57781000000000.0</td><td>2809483946</td><td>0.65806</td><td>-1</td><td>0.6152</td><td>0.952978</td><td>831.17</td><td>2747.0</td><td>103000000000000.0</td><td>64200000000000.0</td><td>1713000000000000.0</td><td>-1488000000000000.0</td><td>4582000000000000.0</td><td>30529000000000.0</td><td>103000000000000.0</td><td>98.45</td><td>24.7744</td><td>-10.3568</td><td>38.9949</td><td>36.67881</td><td>0.7881</td><td>12.29788</td><td>34.18085</td><td>115110000000000.0</td><td>777.64</td><td>1.00231</td><td>777.64</td><td>82069000000000.0</td><td>-281.37</td><td>-115.39</td><td>-391.28</td><td>2747.0</td><td>0.10259</td><td>0.132334</td><td>7.201309</td><td>2809483946</td><td>103000000000000.0</td></tr>\n",
       "<tr><td>748.56</td><td>11480.0</td><td>99470000000000.0</td><td>1.00231</td><td>748.56</td><td>107600000000000.0</td><td>0.05989</td><td>0.0779697</td><td>0.0348</td><td>0.12465</td><td>1.00231</td><td>0.47409</td><td>99470000000000.0</td><td>0.63275</td><td>2809483946</td><td>1.002</td><td>-1</td><td>59100000000000.0</td><td>2809272603</td><td>0.63781</td><td>-1</td><td>0.67</td><td>0.941893</td><td>748.56</td><td>5218.0</td><td>99470000000000.0</td><td>70970000000000.0</td><td>1207000000000000.0</td><td>-2126000000000000.0</td><td>-2677000000000000.0</td><td>26267000000000.0</td><td>99470000000000.0</td><td>118.79</td><td>29.2183</td><td>52.7796</td><td>6.18836</td><td>26.12877</td><td>0.66155</td><td>10.66037</td><td>22.5009</td><td>108110000000000.0</td><td>748.56</td><td>1.00231</td><td>748.56</td><td>84337000000000.0</td><td>-43.87</td><td>292.95</td><td>-171.47</td><td>5218.0</td><td>0.1579</td><td>0.14077</td><td>6.691006</td><td>2809272603</td><td>99470000000000.0</td></tr>\n",
       "</table></div>"
      ],
      "text/plain": [
       "<Table length=5>\n",
       "halo_vmax_firstacc halo_dmvir_dt_tdyn ... halo_hostid halo_mvir_host_halo\n",
       "     float32            float32       ...    int64          float32      \n",
       "------------------ ------------------ ... ----------- -------------------\n",
       "           1001.57            12810.0 ...  2811042639   200800000000000.0\n",
       "             895.2            13760.0 ...  2811055606   179600000000000.0\n",
       "            853.83             4666.0 ...  2809250167   129800000000000.0\n",
       "            777.64             4401.0 ...  2809483946   103000000000000.0\n",
       "            748.56            11480.0 ...  2809272603    99470000000000.0"
      ]
     },
     "execution_count": 1,
     "metadata": {},
     "output_type": "execute_result"
    }
   ],
   "source": [
    "import numpy as np\n",
    "import matplotlib.pyplot as plt\n",
    "import jax\n",
    "from jax import numpy as jnp\n",
    "\n",
    "from astropy import cosmology\n",
    "import halotools.empirical_models as htem\n",
    "import halotools.sim_manager as htsm\n",
    "import halotools.mock_observables as htmo\n",
    "\n",
    "import galtab\n",
    "\n",
    "# Set our CiC parameters (all lengths are in Mpc/h)\n",
    "proj_search_radius = 2.0\n",
    "cylinder_half_length = 10.0\n",
    "cic_edges = np.arange(-0.5, 16)\n",
    "\n",
    "# Set our cosmology and HOD model\n",
    "cosmo = cosmology.Planck13\n",
    "hod = htem.PrebuiltHodModelFactory(\"zheng07\", threshold=-21)\n",
    "\n",
    "# Load Bolshoi-Planck simulation halos at z=0\n",
    "halocat = htsm.CachedHaloCatalog(simname=\"bolplanck\", redshift=0)\n",
    "halocat.halo_table[:5]"
   ]
  },
  {
   "cell_type": "markdown",
   "metadata": {},
   "source": [
    "## Calculate CiC the standard way with `halotools`\n",
    "\n",
    "- Populate the halocat with galaxies probabilistically from the HOD model\n",
    "- Compute the number of neighbors within a cylinder around each neighbor\n",
    "- Tally up a histogram of the neighbor counts for a given set of CiC bins"
   ]
  },
  {
   "cell_type": "code",
   "execution_count": 2,
   "metadata": {},
   "outputs": [
    {
     "data": {
      "text/plain": [
       "array([0.36245417, 0.2486824 , 0.1560495 , 0.08942484, 0.05293309,\n",
       "       0.03305454, 0.01976398, 0.0126604 , 0.00796288, 0.00498396,\n",
       "       0.00504125, 0.00223419, 0.00200504, 0.00114574, 0.00091659,\n",
       "       0.00068744])"
      ]
     },
     "execution_count": 2,
     "metadata": {},
     "output_type": "execute_result"
    }
   ],
   "source": [
    "# Choose your HOD parameters (in this case, we will keep them the same)\n",
    "hod.param_dict.update({})\n",
    "\n",
    "# Populated model galaxies and get their Cartesian coordinates\n",
    "hod.populate_mock(halocat)\n",
    "galaxies = hod.mock.galaxy_table\n",
    "xyz = htmo.return_xyz_formatted_array(\n",
    "    galaxies[\"x\"], galaxies[\"y\"], galaxies[\"z\"], velocity=galaxies[\"vz\"],\n",
    "    velocity_distortion_dimension=\"z\", period=halocat.Lbox, cosmology=cosmo\n",
    ")\n",
    "\n",
    "# Compute CiC (self-counting subtracted by the `-1`)\n",
    "cic_counts = htmo.counts_in_cylinders(\n",
    "    xyz, xyz, proj_search_radius, cylinder_half_length) - 1\n",
    "cic_halotools = np.histogram(cic_counts, bins=cic_edges, density=True)[0]\n",
    "cic_halotools"
   ]
  },
  {
   "cell_type": "markdown",
   "metadata": {},
   "source": [
    "## Now let's do it the `galtab` way"
   ]
  },
  {
   "cell_type": "code",
   "execution_count": 3,
   "metadata": {},
   "outputs": [
    {
     "name": "stderr",
     "output_type": "stream",
     "text": [
      "WARNING:absl:No GPU/TPU found, falling back to CPU. (Set TF_CPP_MIN_LOG_LEVEL=0 and rerun for more info.)\n"
     ]
    },
    {
     "data": {
      "text/plain": [
       "DeviceArray([0.35813972, 0.25630063, 0.15486425, 0.0911006 , 0.05365718,\n",
       "             0.03209952, 0.0194987 , 0.01234983, 0.0078652 , 0.00524053,\n",
       "             0.00336971, 0.00212132, 0.00131376, 0.00090561, 0.00068343,\n",
       "             0.00049   ], dtype=float32)"
      ]
     },
     "execution_count": 3,
     "metadata": {},
     "output_type": "execute_result"
    }
   ],
   "source": [
    "# Give the Tabulator the halo catalog and a fiducial HOD model\n",
    "gtab = galtab.GalaxyTabulator(halocat, hod)\n",
    "\n",
    "# Prepare the CICTabulator to make predictions\n",
    "cictab = galtab.CICTabulator(gtab, proj_search_radius, cylinder_half_length,\n",
    "                            bin_edges=cic_edges)\n",
    "\n",
    "# Choose your HOD parameters (in this case, we will keep them the same)\n",
    "hod.param_dict.update({})\n",
    "\n",
    "# Predict CiC for this model\n",
    "cic_galtab = cictab.predict(hod)\n",
    "cic_galtab"
   ]
  },
  {
   "cell_type": "markdown",
   "metadata": {},
   "source": [
    "## Plot the `galtab` vs. `halotools` comparison\n",
    "\n",
    "- `galtab` predicts the CiC expectation value (smooth + differentiable)\n",
    "- `halotools` predicts a CiC realization (noisy)"
   ]
  },
  {
   "cell_type": "code",
   "execution_count": 4,
   "metadata": {},
   "outputs": [
    {
     "data": {
      "image/png": "[encoded data removed]",
      "text/plain": [
       "<Figure size 640x480 with 1 Axes>"
      ]
     },
     "metadata": {},
     "output_type": "display_data"
    }
   ],
   "source": [
    "cic_cens = 0.5 * (cic_edges[:-1] + cic_edges[1:])\n",
    "plt.semilogy(cic_cens, cic_galtab, label=\"galtab\", lw=3)\n",
    "plt.semilogy(cic_cens, cic_halotools, label=\"halotools\", lw=3, ls=\"--\")\n",
    "plt.legend(frameon=False)\n",
    "plt.xlabel(\"$N_{\\\\rm CiC}$\")\n",
    "plt.ylabel(\"$P(N_{\\\\rm CiC})$\")\n",
    "plt.show()"
   ]
  },
  {
   "cell_type": "markdown",
   "metadata": {},
   "source": [
    "## **In Development:** Differentiate CiC w.r.t. the HOD parameter $\\log M_{\\rm min}$\n",
    "\n",
    "`galtab` is implemented in JAX, so it is in principle portable to GPU and\n",
    "differentiable, assuming your HOD model is compatible with JAX. Unfortunately,\n",
    "this requires a few modifications to `halotools` models. In the following cell,\n",
    "I will show an example of such a modification, taken from the `JaxZheng07Cens` and\n",
    "`JaxZheng07Sats` implementations in the\n",
    "[JaxTabCorr](https://github.com/AlanPearl/JaxTabCorr) project."
   ]
  },
  {
   "cell_type": "code",
   "execution_count": 5,
   "metadata": {},
   "outputs": [],
   "source": [
    "class JaxZheng07Cens(htem.Zheng07Cens):\n",
    "    def mean_occupation(self, **kwargs):\n",
    "        # Retrieve the array storing the mass-like variable\n",
    "        if 'table' in list(kwargs.keys()):\n",
    "            mass = kwargs['table'][self.prim_haloprop_key]\n",
    "        elif 'prim_haloprop' in list(kwargs.keys()):\n",
    "            mass = jnp.atleast_1d(kwargs['prim_haloprop'])\n",
    "        else:\n",
    "            msg = (\"\\nYou must pass either a ``table`` or ``prim_haloprop`` argument \\n\"\n",
    "                   \"to the ``mean_occupation`` function of the ``Zheng07Cens`` class.\\n\")\n",
    "            raise htem.HalotoolsError(msg)\n",
    "\n",
    "        return zheng07_cenocc(mass, self.param_dict[\"logMmin\"],\n",
    "                              self.param_dict[\"sigma_logM\"])\n",
    "\n",
    "\n",
    "class JaxZheng07Sats(htem.Zheng07Sats):\n",
    "    def mean_occupation(self, **kwargs):\n",
    "        if self.modulate_with_cenocc:\n",
    "            for key, value in list(self.param_dict.items()):\n",
    "                if key in self.central_occupation_model.param_dict:\n",
    "                    self.central_occupation_model.param_dict[key] = value\n",
    "\n",
    "        # Retrieve the array storing the mass-like variable\n",
    "        if 'table' in list(kwargs.keys()):\n",
    "            mass = kwargs['table'][self.prim_haloprop_key]\n",
    "        elif 'prim_haloprop' in list(kwargs.keys()):\n",
    "            mass = jnp.atleast_1d(kwargs['prim_haloprop'])\n",
    "        else:\n",
    "            msg = (\"\\nYou must pass either a ``table`` or ``prim_haloprop`` argument \\n\"\n",
    "                   \"to the ``mean_occupation`` function of the ``Zheng07Sats`` class.\\n\")\n",
    "            raise htem.HalotoolsError(msg)\n",
    "\n",
    "        mean_nsat = zheng07_satocc(mass, self.param_dict[\"logM0\"],\n",
    "                                   self.param_dict[\"logM1\"], self.param_dict[\"alpha\"])\n",
    "\n",
    "        # If a central occupation model was passed to the constructor,\n",
    "        # multiply mean_nsat by an overall factor of mean_ncen\n",
    "        if self.modulate_with_cenocc:\n",
    "            # compatible with AB models\n",
    "            mean_ncen = getattr(self.central_occupation_model, \"baseline_mean_occupation\",\n",
    "                                self.central_occupation_model.mean_occupation)(**kwargs)\n",
    "            mean_nsat *= mean_ncen\n",
    "\n",
    "        return mean_nsat\n",
    "\n",
    "\n",
    "def vectorized_cond(pred, true_fun, false_fun, operand, safe_operand_value=0):\n",
    "    # Taken from https://github.com/google/jax/issues/1052\n",
    "    # ====================================================\n",
    "    # true_fun and false_fun must act elementwise (i.e. be vectorized)\n",
    "    true_op = jnp.where(pred, operand, safe_operand_value)\n",
    "    false_op = jnp.where(pred, safe_operand_value, operand)\n",
    "    return jnp.where(pred, true_fun(true_op), false_fun(false_op))\n",
    "\n",
    "\n",
    "@jax.jit\n",
    "def zheng07_cenocc(mass, logmmin, sigma_logm):\n",
    "    logm = jnp.log10(mass)\n",
    "    return 0.5 * (1.0 + jax.scipy.special.erf((logm - logmmin) / sigma_logm))\n",
    "\n",
    "\n",
    "@jax.jit\n",
    "def zheng07_satocc(mass, logm0, logm1, alpha):\n",
    "    m0 = 10. ** logm0\n",
    "    m1 = 10. ** logm1\n",
    "    is_nonzero = mass > m0\n",
    "\n",
    "    def nonzero_func(x):\n",
    "        return ((x - m0) / m1) ** alpha\n",
    "\n",
    "    def zero_func(x):\n",
    "        return 0\n",
    "\n",
    "    mean_nsat = vectorized_cond(is_nonzero, nonzero_func, zero_func, mass,\n",
    "                                safe_operand_value=m0 + m1)\n",
    "    return mean_nsat"
   ]
  },
  {
   "cell_type": "markdown",
   "metadata": {},
   "source": [
    "Now we can construct a differentiable HOD model with our JAX-compatible mean\n",
    "occupation functions, which we call `hod_jax`. This model allows us to\n",
    "differentiate `cictab.predict` with `jax.grad`.\n",
    "\n",
    "*Note:* You shouldn't try using `jax.jit` directly on `cictab.predict`, since it\n",
    "contains some I/O lines that can't be compiled. Rest assured that the primary\n",
    "calculation has already been jitted, and automatically runs on the GPU if available."
   ]
  },
  {
   "cell_type": "code",
   "execution_count": 6,
   "metadata": {},
   "outputs": [
    {
     "data": {
      "image/png": "[encoded data removed]",
      "text/plain": [
       "<Figure size 640x480 with 1 Axes>"
      ]
     },
     "metadata": {},
     "output_type": "display_data"
    }
   ],
   "source": [
    "hod_jax = htem.HodModelFactory(\n",
    "    centrals_occupation=JaxZheng07Cens(threshold=-21),\n",
    "    satellites_occupation=JaxZheng07Sats(threshold=-21),\n",
    "    centrals_profile=htem.TrivialPhaseSpace(),\n",
    "    satellites_profile=htem.NFWPhaseSpace()\n",
    ")\n",
    "\n",
    "def calc_cic1(logMmin=12.79):\n",
    "    hod_jax.param_dict.update({\"logMmin\": logMmin})\n",
    "    return cictab.predict(hod_jax, warn_p_over_1=False)[1]\n",
    "\n",
    "diff_cic1 = jax.grad(calc_cic1)\n",
    "\n",
    "# Note that we shouldn't make logMmin too much lower than that of our fiducial\n",
    "# model. If desired, make more conservative choices for the fiducial parameters.\n",
    "# i.e., low logMmin / logM1 / logM0 values and large sigma_logM values\n",
    "for logmmin in np.linspace(11.0, 15.0, 20):\n",
    "    value = calc_cic1(logmmin)\n",
    "    derivative = diff_cic1(logmmin)\n",
    "\n",
    "    plt.plot(logmmin, value, \"bo\")\n",
    "    plt.quiver(logmmin, value, 1, derivative, angles=\"xy\")\n",
    "\n",
    "plt.xlabel(\"$\\\\log M_{\\\\rm min}$\")\n",
    "plt.ylabel(\"$P(N_{\\\\rm CiC} = 1)$\")\n",
    "plt.show()"
   ]
  },
  {
   "cell_type": "markdown",
   "metadata": {},
   "source": [
    "## The derivative isn't working *yet*...\n",
    "\n",
    "- I actually wasn't expecting the above to work, because it's using the Monte-Carlo mode\n",
    "- But analytic mode moment derivatives aren't working either...\n",
    "- TODO: Figure out what's going wrong"
   ]
  }
 ],
 "metadata": {
  "kernelspec": {
   "display_name": "main39",
   "language": "python",
   "name": "python3"
  },
  "language_info": {
   "codemirror_mode": {
    "name": "ipython",
    "version": 3
   },
   "file_extension": ".py",
   "mimetype": "text/x-python",
   "name": "python",
   "nbconvert_exporter": "python",
   "pygments_lexer": "ipython3",
   "version": "3.9.13"
  },
  "orig_nbformat": 4
 },
 "nbformat": 4,
 "nbformat_minor": 2
}
